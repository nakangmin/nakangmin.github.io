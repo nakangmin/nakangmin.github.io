{
  "nbformat": 4,
  "nbformat_minor": 0,
  "metadata": {
    "colab": {
      "name": "python_01_12_28.ipynb",
      "provenance": [],
      "collapsed_sections": []
    },
    "kernelspec": {
      "name": "python3",
      "display_name": "Python 3"
    },
    "language_info": {
      "name": "python"
    }
  },
  "cells": [
    {
      "cell_type": "markdown",
      "source": [
        "# 파이썬 기본 문법\n",
        "\n",
        "## 목차\n",
        "\n",
        "1. 데이터 입력과 출력\n",
        "2. 변수\n",
        "3. 자료형\n",
        "4. 문자열\n",
        "  - 인덱스\n",
        "  - 슬라이싱\n",
        "5. 리스트\n",
        "6. 딕셔너리\n",
        "7. 연산자\n",
        "8. 제어문\n",
        "  - if\n",
        "  - while\n",
        "  - for\n",
        "9. 함수\n",
        "\n"
      ],
      "metadata": {
        "id": "HcNCOed9YNLN"
      }
    },
    {
      "cell_type": "markdown",
      "source": [
        "## 1. 문자열 표현\n",
        "\n",
        "- 따옴표로 둘러싸면 모두 문자열\n",
        "\n",
        "- 함수 print(출력될 자료)\n",
        "\n",
        "  -문자열이나 숫자 등의 자료를 콘솔에 출력하는 일을 수행\n",
        "\n",
        "  -출력 이후에 다음 줄로 이동해 출력을 준비"
      ],
      "metadata": {
        "id": "cyZu4qtvY2wY"
      }
    },
    {
      "cell_type": "code",
      "source": [
        "'p'\n",
        "\n",
        "\"python\"\n",
        "\n",
        "\"4.15\"\n",
        "\n",
        "print(\"Hello world!\")\n",
        "print('Hello python')"
      ],
      "metadata": {
        "colab": {
          "base_uri": "https://localhost:8080/"
        },
        "id": "_N7PpoupZP7i",
        "outputId": "e4a99d9a-6ccb-4e1e-95af-0d43a6b54ac0"
      },
      "execution_count": null,
      "outputs": [
        {
          "output_type": "stream",
          "name": "stdout",
          "text": [
            "Hello world!\n",
            "Hello python\n"
          ]
        }
      ]
    },
    {
      "cell_type": "markdown",
      "source": [
        "## 2. 자료형과 type() 함수\n",
        "\n",
        "- 자료형 :정수와 실수, 문자열 등\n",
        "\n",
        "- type() 함수\n",
        "\n",
        "  -자료형 이름 출력\n",
        "\n",
        "  -자료형을 직접 알아보는 방법"
      ],
      "metadata": {
        "id": "i6HUNYNYaY1b"
      }
    },
    {
      "cell_type": "code",
      "source": [
        "type(3) #int\n",
        "\n",
        "pi = 3.14\n",
        "type(pi) #float\n",
        "\n",
        "type('python') # str\n",
        "\n",
        "type(3 + 4j) # complex = 복소수는 class complex 클래스\n"
      ],
      "metadata": {
        "colab": {
          "base_uri": "https://localhost:8080/"
        },
        "id": "TLbZPgBhbrgQ",
        "outputId": "f9cc723e-e157-4ad6-b2c9-3b7a58bdef6d"
      },
      "execution_count": null,
      "outputs": [
        {
          "output_type": "execute_result",
          "data": {
            "text/plain": [
              "complex"
            ]
          },
          "metadata": {},
          "execution_count": 8
        }
      ]
    },
    {
      "cell_type": "markdown",
      "source": [
        "## 3. 변수와 대입 연산자\n",
        "\n",
        "- 변수(variavle) : '변하는 자료를 저장하는 메모리 공간'\n",
        "\n",
        "  - 변수는 자료를 담을 수 있는 그릇\n",
        "\n",
        "  - 그릇에 이름인 태그가 붙어 있다고 생각\n",
        "\n",
        "- 대입 연산자(=)\n",
        "\n",
        "  - 값을 변수에 저장, =의 의미는 왼쪽 화살표(<-)라고 생각\n",
        "\n",
        "- 식별자(identifiers)\n",
        "  - 변수, 함수와 클래스 이름 등 프로그래머가 이름을 짓는 단어\n",
        "  - 식별자를 구성하는 문자 (영문자, 한글도 가능와 숫자 그리고 _를 사용)\n",
        "- 제한\n",
        "  - 문자는 대소문자의 영문자,숫자 그리고 _구성\n",
        "  - 대소문자는 구별\n",
        "  - 숫자는 맨 앞에 올 수 없다\n",
        "  - 키워드는 불가\n",
        "\n"
      ],
      "metadata": {
        "id": "s3mLJcvveCcI"
      }
    },
    {
      "cell_type": "code",
      "source": [
        "unit = 3 # true\n",
        "# 3 = unit error\n",
        "\n",
        "5 == 3 + 2 # 등호식의 '같다'라는 등호 연산자 ==으로, 결과는 true 또는 false다."
      ],
      "metadata": {
        "colab": {
          "base_uri": "https://localhost:8080/"
        },
        "id": "jQ9mv2ANeroK",
        "outputId": "6d5ac440-0185-46da-987c-21e0258bd1e9"
      },
      "execution_count": null,
      "outputs": [
        {
          "output_type": "execute_result",
          "data": {
            "text/plain": [
              "True"
            ]
          },
          "metadata": {},
          "execution_count": 11
        }
      ]
    },
    {
      "cell_type": "markdown",
      "source": [
        "## 4. 표준 입력의 이해\n",
        "\n",
        "- 표준 입력(standard input)\n",
        "  - 쉘이나 콘솔에서 사용자의 입력을 받아 처리하는 방식\n",
        "  - 콘솔의 키보드로 입력되는 방식을 표준 입력\n",
        "  - 모니터의 콘솔로 출력되는 방식을 표준 출력\n",
        "- 함수 input()  사용\n",
        "  - 함수 input('질문 내용?')\n",
        "  -Enter 키를 누르기 전에 입력한 한 줄의 모든 내용이 문자열로 반환"
      ],
      "metadata": {
        "id": "zq4y6bKzfGxU"
      }
    },
    {
      "cell_type": "code",
      "source": [
        "univ = input('대학은? ') # 대학은? ___enter\n",
        "name = input('이름은? ') # 이름은? ___enter\n",
        "print('대학 : ',univ, '이름 : ', name)\n",
        "\n",
        "d = input() # 문자열로 받기 때문에 형변환을 해야한다\n",
        "int(d) + 5\n",
        "\n",
        "data = int(input()) #input에다가 int로받아라\n",
        "type(data)"
      ],
      "metadata": {
        "colab": {
          "base_uri": "https://localhost:8080/"
        },
        "id": "x1mW32L3gYcx",
        "outputId": "feafc5ca-56c1-4066-917c-ace321615c05"
      },
      "execution_count": null,
      "outputs": [
        {
          "name": "stdout",
          "output_type": "stream",
          "text": [
            "대학은? tjdnfeo\n",
            "이름은? 나강민\n",
            "대학 :  tjdnfeo 이름 :  나강민\n",
            "100\n",
            "423\n"
          ]
        },
        {
          "output_type": "execute_result",
          "data": {
            "text/plain": [
              "int"
            ]
          },
          "metadata": {},
          "execution_count": 18
        }
      ]
    },
    {
      "cell_type": "markdown",
      "source": [
        "## 5. 문자열 활용, 길이와 문자 참조\n",
        "  - 문자열의 길이 반환 : 함수 len()\n",
        "  - 첨자를 사용한 문자열의 문자 참조"
      ],
      "metadata": {
        "id": "6arydkMXgttm"
      }
    },
    {
      "cell_type": "code",
      "source": [
        "str = 'Hello python!'\n",
        "n = len(str)\n",
        "print('문자열', str, '길이', n)\n",
        "print('첫 문자', str[0], str[-n])\n",
        "print('가운데 문자', str[n//2], str[-n//2])\n",
        "print('마지막 문자', str[n-1], str[-1])"
      ],
      "metadata": {
        "colab": {
          "base_uri": "https://localhost:8080/"
        },
        "id": "8_IzR0Poikm3",
        "outputId": "48a2ee2c-2a72-4167-8c52-1868ac21614e"
      },
      "execution_count": null,
      "outputs": [
        {
          "output_type": "stream",
          "name": "stdout",
          "text": [
            "문자열 Hello python! 길이 13\n",
            "첫 문자 H H\n",
            "가운데 문자 p p\n",
            "마지막 문자 ! !\n"
          ]
        }
      ]
    },
    {
      "cell_type": "markdown",
      "source": [
        "## 6. 슬라이싱 : 문자열의 부분 문자열 참조 방식\n",
        "\n",
        "- 슬라이싱(slicing)\n",
        "  - 전체에서 일부분을 참조하는 방법\n",
        "- 문자열 슬라이싱\n",
        "  - 기존의 문자열은 절대 수정이 되는 것이 아니라 원 문자열은 변함이 없고 일부분을 반환\n",
        "- str[start : end]\n",
        "  - 문자열 str에서 start 첨자에서 end - 1 첨자까지의 문자열을 반환"
      ],
      "metadata": {
        "id": "kNhDC6ENjKDT"
      }
    },
    {
      "cell_type": "code",
      "source": [
        "'python'[1:5] #ytho\n",
        "'python'[2:4] #th\n",
        "'python'[0:3] #pyt\n",
        "'python'[0:6] #python\n",
        "'python'[0:len('python')] #python"
      ],
      "metadata": {
        "colab": {
          "base_uri": "https://localhost:8080/",
          "height": 35
        },
        "id": "-fJehARoj54M",
        "outputId": "f7cf7521-6d8f-4524-fbdf-6d8888cf7bb1"
      },
      "execution_count": null,
      "outputs": [
        {
          "output_type": "execute_result",
          "data": {
            "application/vnd.google.colaboratory.intrinsic+json": {
              "type": "string"
            },
            "text/plain": [
              "'python'"
            ]
          },
          "metadata": {},
          "execution_count": 16
        }
      ]
    },
    {
      "cell_type": "markdown",
      "source": [
        "## 7. 함수 count()와 join()\n",
        "\n",
        "- 메소드 count() : 부분 문자열 출현 횟수를 반환\n",
        "- 메소드 join() : 문자열의 문자와 문자 사이에 원하는 문자열을 삽입\n",
        "\n",
        "- 함수는 독립적으로 직접 호출하지만 메소드는 객체를 통해 호출한다.\n",
        "  - 함수(function) : len('python') 독립적\n",
        "  - 메소드(method) : 'python'.count('th') 객체 또는 클래스에 소속"
      ],
      "metadata": {
        "id": "hwMe2JDjlclh"
      }
    },
    {
      "cell_type": "code",
      "source": [
        "str = '단수한 것이 복잡한 것보다 낫다.'\n",
        "str.count('복잡') # 1\n",
        "str.count('것') # 2\n",
        "\n",
        "num = '12345'\n",
        "'->'.join(num) # 1->2->3->4->5"
      ],
      "metadata": {
        "colab": {
          "base_uri": "https://localhost:8080/",
          "height": 35
        },
        "id": "-g7xtPtolzBI",
        "outputId": "fc561c3e-1620-4600-eac4-d903aa882240"
      },
      "execution_count": null,
      "outputs": [
        {
          "output_type": "execute_result",
          "data": {
            "application/vnd.google.colaboratory.intrinsic+json": {
              "type": "string"
            },
            "text/plain": [
              "'1->2->3->4->5'"
            ]
          },
          "metadata": {},
          "execution_count": 20
        }
      ]
    },
    {
      "cell_type": "markdown",
      "source": [
        "## 8. C언어의 포맷팅 스타일인 %d와 %f 등으로 출력\n",
        "\n",
        "- %d, %x, %o, %f, %c, %s 등을 사용해 %로 이어지는 뒤의 상수나 변수를 순서대로 10진수, 16진수, 8진수, 소수점, 문자, 문자열로 출력"
      ],
      "metadata": {
        "id": "SOH9edWNmKwz"
      }
    },
    {
      "cell_type": "code",
      "source": [
        "'%d - %x = %o' % (30, 20, 30-20) #30 - 14 = 12\n",
        "print('%d ** %x = %o' % (3, 2, 3**2)) #3 ** 2 = 11\n",
        "print('%10.2f' % 2.7124782) #      2.71\n",
        "x = 70\n",
        "y = 120\n",
        "'%d + %d = %d' % (x, y, x+y) # 70 + 120 = 190"
      ],
      "metadata": {
        "colab": {
          "base_uri": "https://localhost:8080/",
          "height": 72
        },
        "id": "yDNQTUUKnadS",
        "outputId": "410891be-1365-4540-d9b8-c0ccb036f561"
      },
      "execution_count": null,
      "outputs": [
        {
          "output_type": "stream",
          "name": "stdout",
          "text": [
            "3 ** 2 = 11\n",
            "      2.71\n"
          ]
        },
        {
          "output_type": "execute_result",
          "data": {
            "application/vnd.google.colaboratory.intrinsic+json": {
              "type": "string"
            },
            "text/plain": [
              "'70 + 120 = 190'"
            ]
          },
          "metadata": {},
          "execution_count": 25
        }
      ]
    },
    {
      "cell_type": "markdown",
      "source": [
        "## 8. 내장 함수 정리하기!"
      ],
      "metadata": {
        "id": "c-Sl2Yrlpj4n"
      }
    },
    {
      "cell_type": "markdown",
      "source": [
        "### 파이썬 자습서 : python Tutorial(파이썬 자습서) 검색\n",
        "\n",
        "https://docs.python.org/ko/3/tutorial/index.html\n",
        "\n",
        "기본적인건 정리 했지만 라이브러리 함수들을 좀 더 공부해야한다."
      ],
      "metadata": {
        "id": "Me88NQJxohR4"
      }
    }
  ]
}